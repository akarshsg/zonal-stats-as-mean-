{
 "cells": [
  {
   "cell_type": "code",
   "execution_count": 3,
   "id": "a2e7f3fd-01ff-4fa9-9c20-9049e8159f94",
   "metadata": {},
   "outputs": [],
   "source": [
    "import os\n",
    "import geopandas as gpd\n",
    "import rasterio\n",
    "from rasterio.mask import mask\n",
    "import numpy as np\n",
    "import pandas as pd\n",
    "from tqdm import tqdm\n",
    "import time"
   ]
  },
  {
   "cell_type": "code",
   "execution_count": 4,
   "id": "de0cacb7-aab0-45f8-ac0c-1681bea5a067",
   "metadata": {},
   "outputs": [
    {
     "name": "stderr",
     "output_type": "stream",
     "text": [
      "Processing: 100%|█████████████████████████████████████████████████████████████████| 5336/5336 [00:42<00:00, 124.70it/s]"
     ]
    },
    {
     "name": "stdout",
     "output_type": "stream",
     "text": [
      "Total runtime: 42.791369915008545 seconds\n"
     ]
    },
    {
     "name": "stderr",
     "output_type": "stream",
     "text": [
      "\n"
     ]
    }
   ],
   "source": [
    "# Load the shapefile\n",
    "shapefile_path = \"E:/Akarsh/District boundary/old by esri/India_district_edited.shp\"\n",
    "gdf = gpd.read_file(shapefile_path)\n",
    "\n",
    "# Specify the folder containing raster files\n",
    "raster_folder = \"E:/Akarsh/DATA/test/\"\n",
    "raster_files = [file for file in os.listdir(raster_folder) if file.endswith('.tif')]\n",
    "\n",
    "# Specify the folder to save the CSV file\n",
    "output_folder = \"E:/Akarsh/ML data/output_test\"\n",
    "\n",
    "# Create the output folder if it doesn't exist\n",
    "os.makedirs(output_folder, exist_ok=True)\n",
    "\n",
    "# Initialize an empty dictionary to store results for each district\n",
    "results_dict = {'District': []}\n",
    "\n",
    "# Initialize a progress bar with the total number of iterations\n",
    "total_iterations = len(raster_files) * len(gdf)\n",
    "pbar = tqdm(total=total_iterations, desc='Processing')\n",
    "\n",
    "# Measure the start time\n",
    "start_time = time.time()\n",
    "\n",
    "# Iterate over each raster file\n",
    "for raster_file in raster_files:\n",
    "    # Load the raster file\n",
    "    raster_path = os.path.join(raster_folder, raster_file)\n",
    "    src = rasterio.open(raster_path)\n",
    "\n",
    "    # Initialize a list to store mean values for each district in the current raster\n",
    "    mean_values = []\n",
    "\n",
    "    # Iterate over each row in the GeoDataFrame\n",
    "    for index, row in gdf.iterrows():\n",
    "        # Extract the geometry of the district\n",
    "        geom = row['geometry']\n",
    "\n",
    "        # Use the geometry to mask the raster data\n",
    "        out_image, out_transform = mask(src, [geom], crop=True)\n",
    "\n",
    "        # Ensure that the masked values are numeric\n",
    "        masked_values = out_image.astype(float)\n",
    "\n",
    "        # Check for invalid values (e.g., nodata) and replace with NaN\n",
    "        masked_values[masked_values <= src.nodata] = np.nan\n",
    "\n",
    "        # Check if there are valid pixels in the masked array\n",
    "        if np.isnan(masked_values).all():\n",
    "            # If all pixels are NaN, set mean_value to NaN\n",
    "            mean_value = np.nan\n",
    "        else:\n",
    "            # Calculate the mean value of the masked pixels\n",
    "            mean_value = np.nanmean(masked_values)\n",
    "\n",
    "        # Append the mean value to the list\n",
    "        mean_values.append(mean_value)\n",
    "\n",
    "        # Update the progress bar\n",
    "        pbar.update(1)\n",
    "\n",
    "    # Close the raster file\n",
    "    src.close()\n",
    "\n",
    "    # Append the list of mean values to the results dictionary\n",
    "    results_dict[raster_file] = mean_values\n",
    "\n",
    "# Add district names to the 'District' column\n",
    "results_dict['District'] = gdf['NAME_2'].tolist()\n",
    "\n",
    "# Close the progress bar\n",
    "pbar.close()\n",
    "\n",
    "# Calculate and print the runtime\n",
    "end_time = time.time()\n",
    "runtime = end_time - start_time\n",
    "print(f\"Total runtime: {runtime} seconds\")\n",
    "\n",
    "# Find the maximum length of mean values lists\n",
    "max_length = max(len(values) for values in results_dict.values())\n",
    "\n",
    "# Fill shorter lists with NaN to ensure equal lengths\n",
    "for key, values in results_dict.items():\n",
    "    if len(values) < max_length:\n",
    "        results_dict[key] += [np.nan] * (max_length - len(values))\n",
    "\n",
    "# Create a DataFrame from the results dictionary\n",
    "result_df = pd.DataFrame(results_dict)\n",
    "\n",
    "# Save the DataFrame to a CSV file in the specified folder\n",
    "csv_file_path = os.path.join(output_folder, 'district_mean_values.csv')\n",
    "result_df.to_csv(csv_file_path, index=False)"
   ]
  },
  {
   "cell_type": "code",
   "execution_count": null,
   "id": "0f0ddf8c-6883-4a7c-b3d6-dbef05f49f74",
   "metadata": {},
   "outputs": [],
   "source": []
  }
 ],
 "metadata": {
  "kernelspec": {
   "display_name": "Python 3 (ipykernel)",
   "language": "python",
   "name": "python3"
  },
  "language_info": {
   "codemirror_mode": {
    "name": "ipython",
    "version": 3
   },
   "file_extension": ".py",
   "mimetype": "text/x-python",
   "name": "python",
   "nbconvert_exporter": "python",
   "pygments_lexer": "ipython3",
   "version": "3.12.0"
  }
 },
 "nbformat": 4,
 "nbformat_minor": 5
}
